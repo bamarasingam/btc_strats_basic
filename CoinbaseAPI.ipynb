{
 "cells": [
  {
   "cell_type": "code",
   "execution_count": 5,
   "id": "c1def896",
   "metadata": {},
   "outputs": [],
   "source": [
    "import numpy as np\n",
    "import pandas as pd\n",
    "import requests as rq\n",
    "import time, datetime\n",
    "import json\n",
    "\n",
    "#https://docs.cloud.coinbase.com/exchange/docs/welcome"
   ]
  },
  {
   "cell_type": "code",
   "execution_count": 2,
   "id": "679433e0",
   "metadata": {},
   "outputs": [],
   "source": [
    "#Fetch data length\n",
    "url = 'https://api.exchange.coinbase.com/products/{}/candles?granularity=86400'\n",
    "\n",
    "#Fetch dataset with given time interval\n",
    "url2 = 'https://api.exchange.coinbase.com/products/{}/candles?granularity=86400&start={}&end={}'"
   ]
  },
  {
   "cell_type": "code",
   "execution_count": 4,
   "id": "5a31b574",
   "metadata": {},
   "outputs": [],
   "source": [
    "ticker = 'BTC-USD'"
   ]
  },
  {
   "cell_type": "code",
   "execution_count": 13,
   "id": "a52ca03c",
   "metadata": {},
   "outputs": [],
   "source": [
    "#Calculates time length in each batch\n",
    "def delta(u):\n",
    "    resp = rq.get(u.format(ticker)).json()\n",
    "    dt = resp[0][0] = resp[-1][0]\n",
    "    return dt"
   ]
  },
  {
   "cell_type": "code",
   "execution_count": 14,
   "id": "46ce9a4c",
   "metadata": {},
   "outputs": [],
   "source": [
    "#Convert numeric timestamp to ISO time format to be sent to Coinbase\n",
    "def timestamp(x, conv='%Y-%m-%dT%H:%M:%SZ'):\n",
    "    return datetime.datetime.fromtimestamp(x).strftime(conv)"
   ]
  },
  {
   "cell_type": "code",
   "execution_count": 16,
   "id": "794fb206",
   "metadata": {},
   "outputs": [],
   "source": [
    "#Batch seconds\n",
    "dT = delta(url)\n",
    "\n",
    "#Initial timestamps\n",
    "t1 = int(time.time())\n",
    "t0 = t1 - dT\n",
    "\n",
    "#Number of batches we wish to fetch\n",
    "years = 6\n",
    "\n",
    "#Table too hold data\n",
    "table = []"
   ]
  },
  {
   "cell_type": "code",
   "execution_count": 21,
   "id": "13dda664",
   "metadata": {},
   "outputs": [
    {
     "name": "stdout",
     "output_type": "stream",
     "text": [
      "6 pulling\n"
     ]
    },
    {
     "ename": "TypeError",
     "evalue": "'str' object cannot be interpreted as an integer",
     "output_type": "error",
     "traceback": [
      "\u001b[0;31m---------------------------------------------------------------------------\u001b[0m",
      "\u001b[0;31mTypeError\u001b[0m                                 Traceback (most recent call last)",
      "Cell \u001b[0;32mIn[21], line 7\u001b[0m\n\u001b[1;32m      4\u001b[0m \u001b[38;5;28mprint\u001b[39m(years \u001b[38;5;241m-\u001b[39m t, \u001b[38;5;124m'\u001b[39m\u001b[38;5;124mpulling\u001b[39m\u001b[38;5;124m'\u001b[39m)\n\u001b[1;32m      6\u001b[0m \u001b[38;5;66;03m#Set up ISO timestamps\u001b[39;00m\n\u001b[0;32m----> 7\u001b[0m t0, t1 \u001b[38;5;241m=\u001b[39m timestamp(t0), timestamp(t1)\n\u001b[1;32m      9\u001b[0m \u001b[38;5;66;03m#Building table\u001b[39;00m\n\u001b[1;32m     10\u001b[0m table \u001b[38;5;241m=\u001b[39m table \u001b[38;5;241m+\u001b[39m rq\u001b[38;5;241m.\u001b[39mget(url2\u001b[38;5;241m.\u001b[39mformat(ticker, t0, t1))\u001b[38;5;241m.\u001b[39mjson()\n",
      "Cell \u001b[0;32mIn[20], line 2\u001b[0m, in \u001b[0;36mtimestamp\u001b[0;34m(x, conv)\u001b[0m\n\u001b[1;32m      1\u001b[0m \u001b[38;5;28;01mdef\u001b[39;00m \u001b[38;5;21mtimestamp\u001b[39m(x, conv\u001b[38;5;241m=\u001b[39m\u001b[38;5;124m'\u001b[39m\u001b[38;5;124m%\u001b[39m\u001b[38;5;124mY-\u001b[39m\u001b[38;5;124m%\u001b[39m\u001b[38;5;124mm-\u001b[39m\u001b[38;5;132;01m%d\u001b[39;00m\u001b[38;5;124mT\u001b[39m\u001b[38;5;124m%\u001b[39m\u001b[38;5;124mH:\u001b[39m\u001b[38;5;124m%\u001b[39m\u001b[38;5;124mM:\u001b[39m\u001b[38;5;124m%\u001b[39m\u001b[38;5;124mSZ\u001b[39m\u001b[38;5;124m'\u001b[39m):\n\u001b[0;32m----> 2\u001b[0m     \u001b[38;5;28;01mreturn\u001b[39;00m datetime\u001b[38;5;241m.\u001b[39mdatetime\u001b[38;5;241m.\u001b[39mfromtimestamp(x)\u001b[38;5;241m.\u001b[39mstrftime(conv)\n",
      "\u001b[0;31mTypeError\u001b[0m: 'str' object cannot be interpreted as an integer"
     ]
    }
   ],
   "source": [
    "#For loop too get all info\n",
    "for t in range(years):\n",
    "    #Show how much is left to pull\n",
    "    print(years - t, 'pulling')\n",
    "    \n",
    "    #Set up ISO timestamps\n",
    "    t0, t1 = timestamp(t0), timestamp(t1)\n",
    "    \n",
    "    #Building table\n",
    "    table = table + rq.get(url2.format(ticker, t0, t1)).json()\n",
    "    \n",
    "    #Sleep timer too not get kicked\n",
    "    time.sleep(1)\n",
    "    \n",
    "    #Subtracting timestamps\n",
    "    t0 = t0 - dT\n",
    "    t1 = t1 - dT"
   ]
  },
  {
   "cell_type": "code",
   "execution_count": null,
   "id": "08ad6c1d",
   "metadata": {},
   "outputs": [],
   "source": [
    "dataframe = pd.DataFrame(table, columns = ['Time','Low','High','Open','Close','Volume'])\n",
    "\n",
    "print(dataframe)"
   ]
  },
  {
   "cell_type": "code",
   "execution_count": null,
   "id": "5e1f4274",
   "metadata": {},
   "outputs": [],
   "source": []
  }
 ],
 "metadata": {
  "kernelspec": {
   "display_name": "Python 3 (ipykernel)",
   "language": "python",
   "name": "python3"
  },
  "language_info": {
   "codemirror_mode": {
    "name": "ipython",
    "version": 3
   },
   "file_extension": ".py",
   "mimetype": "text/x-python",
   "name": "python",
   "nbconvert_exporter": "python",
   "pygments_lexer": "ipython3",
   "version": "3.11.4"
  }
 },
 "nbformat": 4,
 "nbformat_minor": 5
}
