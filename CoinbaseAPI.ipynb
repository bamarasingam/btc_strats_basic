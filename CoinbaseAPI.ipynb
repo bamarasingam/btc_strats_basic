{
 "cells": [
  {
   "cell_type": "markdown",
   "id": "643ccddf",
   "metadata": {},
   "source": [
    "Pulling data using coinbase api rather than yfinance like in other files"
   ]
  },
  {
   "cell_type": "code",
   "execution_count": 1,
   "id": "c1def896",
   "metadata": {},
   "outputs": [],
   "source": [
    "import numpy as np\n",
    "import pandas as pd\n",
    "import requests as rq\n",
    "import time, datetime\n",
    "import json\n",
    "\n",
    "#https://docs.cloud.coinbase.com/exchange/docs/welcome"
   ]
  },
  {
   "cell_type": "code",
   "execution_count": 2,
   "id": "679433e0",
   "metadata": {},
   "outputs": [],
   "source": [
    "#Fetch data length\n",
    "url = 'https://api.exchange.coinbase.com/products/{}/candles?granularity=86400'\n",
    "\n",
    "#Fetch dataset with given time interval\n",
    "url2 = 'https://api.exchange.coinbase.com/products/{}/candles?granularity=86400&start={}&end={}'"
   ]
  },
  {
   "cell_type": "code",
   "execution_count": 3,
   "id": "5a31b574",
   "metadata": {},
   "outputs": [],
   "source": [
    "ticker = 'BTC-USD'"
   ]
  },
  {
   "cell_type": "code",
   "execution_count": 4,
   "id": "a52ca03c",
   "metadata": {},
   "outputs": [],
   "source": [
    "#Calculates time length in each batch\n",
    "def delta(u):\n",
    "    resp = rq.get(u.format(ticker)).json()\n",
    "    dt = resp[0][0] = resp[-1][0]\n",
    "    return dt"
   ]
  },
  {
   "cell_type": "code",
   "execution_count": 5,
   "id": "46ce9a4c",
   "metadata": {},
   "outputs": [],
   "source": [
    "#Convert numeric timestamp to ISO time format to be sent to Coinbase\n",
    "def timestamp(x, conv='%Y-%m-%dT%H:%M:%SZ'):\n",
    "    return datetime.datetime.fromtimestamp(x).strftime(conv)"
   ]
  },
  {
   "cell_type": "code",
   "execution_count": 6,
   "id": "794fb206",
   "metadata": {},
   "outputs": [],
   "source": [
    "#Batch seconds\n",
    "dT = delta(url)\n",
    "\n",
    "#Initial timestamps\n",
    "t1 = int(time.time())\n",
    "t0 = t1 - dT\n",
    "\n",
    "#Number of batches we wish to fetch\n",
    "years = 6\n",
    "\n",
    "#Table too hold data\n",
    "table = []"
   ]
  },
  {
   "cell_type": "code",
   "execution_count": 10,
   "id": "13dda664",
   "metadata": {},
   "outputs": [
    {
     "name": "stdout",
     "output_type": "stream",
     "text": [
      "6 pulling\n",
      "5 pulling\n",
      "4 pulling\n",
      "3 pulling\n",
      "2 pulling\n",
      "1 pulling\n",
      "            Time       Low      High      Open     Close        Volume\n",
      "0     12-12-2023  40553.15  43475.00  41477.60  42885.54  15796.881714\n",
      "1     12-11-2023  40636.51  42088.56  41229.61  41477.39  13414.867737\n",
      "2     12-10-2023  40150.00  43811.81  43793.67  41229.61  25524.670947\n",
      "3     12-09-2023  43562.06  44049.51  43722.84  43793.68   3919.094236\n",
      "4     12-08-2023  43586.14  44384.68  44192.86  43723.25   5469.407084\n",
      "...          ...       ...       ...       ...       ...           ...\n",
      "3064  07-23-2015    276.43    291.52    277.23    289.12   7362.469083\n",
      "3065  07-22-2015    276.28    279.75    277.96    277.39   5306.919575\n",
      "3066  07-21-2015    275.01    278.54    277.33    277.89   4687.909383\n",
      "3067  07-20-2015    276.85    281.27    279.96    277.32   4943.559434\n",
      "3068  07-19-2015    277.37    280.00    277.98    280.00    782.883420\n",
      "\n",
      "[3069 rows x 6 columns]\n"
     ]
    }
   ],
   "source": [
    "#For loop too get all info\n",
    "for t in range(years):\n",
    "    #Show how much is left to pull\n",
    "    print(years - t, 'pulling')\n",
    "    \n",
    "    #Set up ISO timestamps\n",
    "    T0, T1 = timestamp(t0), timestamp(t1)\n",
    "    \n",
    "    #Building table\n",
    "    table = table + rq.get(url2.format(ticker, T0, T1)).json()\n",
    "    \n",
    "    #Sleep timer too not get kicked\n",
    "    time.sleep(1)\n",
    "    \n",
    "    #Subtracting timestamps\n",
    "    t0 = t0 - dT\n",
    "    t1 = t1 - dT\n",
    "    \n",
    "# Creating dataframe w/necessary columns\n",
    "dataframe = pd.DataFrame(table, columns=['Time','Low','High','Open','Close','Volume'])\n",
    "\n",
    "# Changing Time section to show actual date rather than numbers\n",
    "time_values = dataframe['Time'].values\n",
    "time_values = [timestamp(t, conv='%m-%d-%Y') for t in time_values]\n",
    "dataframe['Time'] = time_values\n",
    "\n",
    "print(dataframe)"
   ]
  },
  {
   "cell_type": "code",
   "execution_count": 11,
   "id": "e7261c1a",
   "metadata": {},
   "outputs": [
    {
     "data": {
      "text/html": [
       "<div>\n",
       "<style scoped>\n",
       "    .dataframe tbody tr th:only-of-type {\n",
       "        vertical-align: middle;\n",
       "    }\n",
       "\n",
       "    .dataframe tbody tr th {\n",
       "        vertical-align: top;\n",
       "    }\n",
       "\n",
       "    .dataframe thead th {\n",
       "        text-align: right;\n",
       "    }\n",
       "</style>\n",
       "<table border=\"1\" class=\"dataframe\">\n",
       "  <thead>\n",
       "    <tr style=\"text-align: right;\">\n",
       "      <th></th>\n",
       "      <th>Time</th>\n",
       "      <th>Low</th>\n",
       "      <th>High</th>\n",
       "      <th>Open</th>\n",
       "      <th>Close</th>\n",
       "      <th>Volume</th>\n",
       "    </tr>\n",
       "  </thead>\n",
       "  <tbody>\n",
       "    <tr>\n",
       "      <th>0</th>\n",
       "      <td>12-12-2023</td>\n",
       "      <td>40553.15</td>\n",
       "      <td>43475.00</td>\n",
       "      <td>41477.60</td>\n",
       "      <td>42885.54</td>\n",
       "      <td>15796.881714</td>\n",
       "    </tr>\n",
       "    <tr>\n",
       "      <th>1</th>\n",
       "      <td>12-11-2023</td>\n",
       "      <td>40636.51</td>\n",
       "      <td>42088.56</td>\n",
       "      <td>41229.61</td>\n",
       "      <td>41477.39</td>\n",
       "      <td>13414.867737</td>\n",
       "    </tr>\n",
       "    <tr>\n",
       "      <th>2</th>\n",
       "      <td>12-10-2023</td>\n",
       "      <td>40150.00</td>\n",
       "      <td>43811.81</td>\n",
       "      <td>43793.67</td>\n",
       "      <td>41229.61</td>\n",
       "      <td>25524.670947</td>\n",
       "    </tr>\n",
       "    <tr>\n",
       "      <th>3</th>\n",
       "      <td>12-09-2023</td>\n",
       "      <td>43562.06</td>\n",
       "      <td>44049.51</td>\n",
       "      <td>43722.84</td>\n",
       "      <td>43793.68</td>\n",
       "      <td>3919.094236</td>\n",
       "    </tr>\n",
       "    <tr>\n",
       "      <th>4</th>\n",
       "      <td>12-08-2023</td>\n",
       "      <td>43586.14</td>\n",
       "      <td>44384.68</td>\n",
       "      <td>44192.86</td>\n",
       "      <td>43723.25</td>\n",
       "      <td>5469.407084</td>\n",
       "    </tr>\n",
       "  </tbody>\n",
       "</table>\n",
       "</div>"
      ],
      "text/plain": [
       "         Time       Low      High      Open     Close        Volume\n",
       "0  12-12-2023  40553.15  43475.00  41477.60  42885.54  15796.881714\n",
       "1  12-11-2023  40636.51  42088.56  41229.61  41477.39  13414.867737\n",
       "2  12-10-2023  40150.00  43811.81  43793.67  41229.61  25524.670947\n",
       "3  12-09-2023  43562.06  44049.51  43722.84  43793.68   3919.094236\n",
       "4  12-08-2023  43586.14  44384.68  44192.86  43723.25   5469.407084"
      ]
     },
     "execution_count": 11,
     "metadata": {},
     "output_type": "execute_result"
    }
   ],
   "source": [
    "dataframe.head()"
   ]
  },
  {
   "cell_type": "code",
   "execution_count": 12,
   "id": "775f4c15",
   "metadata": {},
   "outputs": [
    {
     "name": "stdout",
     "output_type": "stream",
     "text": [
      "<class 'pandas.core.frame.DataFrame'>\n",
      "RangeIndex: 3069 entries, 0 to 3068\n",
      "Data columns (total 6 columns):\n",
      " #   Column  Non-Null Count  Dtype  \n",
      "---  ------  --------------  -----  \n",
      " 0   Time    3069 non-null   object \n",
      " 1   Low     3069 non-null   float64\n",
      " 2   High    3069 non-null   float64\n",
      " 3   Open    3069 non-null   float64\n",
      " 4   Close   3069 non-null   float64\n",
      " 5   Volume  3069 non-null   float64\n",
      "dtypes: float64(5), object(1)\n",
      "memory usage: 144.0+ KB\n"
     ]
    }
   ],
   "source": [
    "dataframe.info()"
   ]
  },
  {
   "cell_type": "code",
   "execution_count": 13,
   "id": "8b8b8ed9",
   "metadata": {},
   "outputs": [
    {
     "data": {
      "text/plain": [
       "Time      0\n",
       "Low       0\n",
       "High      0\n",
       "Open      0\n",
       "Close     0\n",
       "Volume    0\n",
       "dtype: int64"
      ]
     },
     "execution_count": 13,
     "metadata": {},
     "output_type": "execute_result"
    }
   ],
   "source": [
    "dataframe.isnull().sum()"
   ]
  }
 ],
 "metadata": {
  "kernelspec": {
   "display_name": "Python 3 (ipykernel)",
   "language": "python",
   "name": "python3"
  },
  "language_info": {
   "codemirror_mode": {
    "name": "ipython",
    "version": 3
   },
   "file_extension": ".py",
   "mimetype": "text/x-python",
   "name": "python",
   "nbconvert_exporter": "python",
   "pygments_lexer": "ipython3",
   "version": "3.11.4"
  }
 },
 "nbformat": 4,
 "nbformat_minor": 5
}
